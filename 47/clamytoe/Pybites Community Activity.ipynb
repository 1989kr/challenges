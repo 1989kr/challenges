{
 "cells": [
  {
   "cell_type": "markdown",
   "metadata": {},
   "source": [
    "# Pybites Community Branch Activity"
   ]
  },
  {
   "cell_type": "markdown",
   "metadata": {},
   "source": [
    "First of all, I start off with importing everything that I will need."
   ]
  },
  {
   "cell_type": "code",
   "execution_count": 1,
   "metadata": {},
   "outputs": [],
   "source": [
    "import json\n",
    "from collections import Counter\n",
    "\n",
    "import matplotlib.patches as mpatches\n",
    "import matplotlib.pyplot as plt\n",
    "import numpy as np\n",
    "import pandas as pd\n",
    "import seaborn as sns\n",
    "from dateutil.parser import parse\n",
    "from matplotlib import rc\n",
    "from matplotlib.pyplot import figure"
   ]
  },
  {
   "cell_type": "markdown",
   "metadata": {},
   "source": [
    "## Importing the Data"
   ]
  },
  {
   "cell_type": "markdown",
   "metadata": {},
   "source": [
    "Next, I import the json data from the files that I was able to collect from GitHub without using authentication, which wasn't much..."
   ]
  },
  {
   "cell_type": "code",
   "execution_count": 2,
   "metadata": {},
   "outputs": [
    {
     "data": {
      "text/plain": [
       "300"
      ]
     },
     "execution_count": 2,
     "metadata": {},
     "output_type": "execute_result"
    }
   ],
   "source": [
    "# load data\n",
    "page = \"data/events{}.json\"\n",
    "events = []\n",
    "for p in range(1, 4):\n",
    "    with open(page.format(p)) as file:\n",
    "        events.extend(json.loads(file.read()))\n",
    "len(events)"
   ]
  },
  {
   "cell_type": "markdown",
   "metadata": {},
   "source": [
    "## Parsing the Data"
   ]
  },
  {
   "cell_type": "markdown",
   "metadata": {},
   "source": [
    "I created this helper funtion in order to keep from repeating myself in the parsing section."
   ]
  },
  {
   "cell_type": "code",
   "execution_count": 3,
   "metadata": {},
   "outputs": [],
   "source": [
    "# helper function\n",
    "def parse_data(line):\n",
    "    if '[' in line:\n",
    "        data = line.split(': [')[1].replace(']', '').strip()\n",
    "    else:\n",
    "        data = line.split(': ')[1].strip()\n",
    "    return data"
   ]
  },
  {
   "cell_type": "markdown",
   "metadata": {},
   "source": [
    "I next move unto parsing the data and saving them into seperate lists."
   ]
  },
  {
   "cell_type": "code",
   "execution_count": 4,
   "metadata": {},
   "outputs": [],
   "source": [
    "# parse data\n",
    "created = []\n",
    "devs = []\n",
    "diff_levels = []\n",
    "time_spent = []\n",
    "\n",
    "for event in events:\n",
    "    if event['type'] == 'PullRequestEvent':\n",
    "        # developer username\n",
    "        dev = event['actor']['login']\n",
    "        # ignore pybites ;)\n",
    "        if dev != 'pybites':\n",
    "            # store developer username\n",
    "            devs.append(dev)\n",
    "            # store the date\n",
    "            created.append(event['created_at'].split('T')[0])\n",
    "            # parse comment from user for data\n",
    "            comment = event['payload']['pull_request']['body']\n",
    "            for line in comment.split('\\n'):\n",
    "                # get difficulty level and time spent\n",
    "                if 'Difficulty level (1-10):' in line:\n",
    "                    diff = parse_data(line)\n",
    "                elif 'Estimated time spent (hours):' in line:\n",
    "                    spent = parse_data(line)\n",
    "            # pandas DataFrames require that all columns are the same length\n",
    "            # so if we have a missing value, enter None in its place\n",
    "            if diff:\n",
    "                diff_levels.append(int(diff))\n",
    "            else:\n",
    "                diff_levels.append(None)\n",
    "            if spent:\n",
    "                time_spent.append(int(spent))\n",
    "            else:\n",
    "                time_spent.append(None)"
   ]
  },
  {
   "cell_type": "markdown",
   "metadata": {},
   "source": [
    "## DataFrame"
   ]
  },
  {
   "cell_type": "markdown",
   "metadata": {},
   "source": [
    "Now that I have the lists, I create a DataFrame with them."
   ]
  },
  {
   "cell_type": "code",
   "execution_count": 5,
   "metadata": {
    "scrolled": true
   },
   "outputs": [
    {
     "data": {
      "text/html": [
       "<div>\n",
       "<style scoped>\n",
       "    .dataframe tbody tr th:only-of-type {\n",
       "        vertical-align: middle;\n",
       "    }\n",
       "\n",
       "    .dataframe tbody tr th {\n",
       "        vertical-align: top;\n",
       "    }\n",
       "\n",
       "    .dataframe thead th {\n",
       "        text-align: right;\n",
       "    }\n",
       "</style>\n",
       "<table border=\"1\" class=\"dataframe\">\n",
       "  <thead>\n",
       "    <tr style=\"text-align: right;\">\n",
       "      <th></th>\n",
       "      <th>Developers</th>\n",
       "      <th>Difficulty_Levels</th>\n",
       "      <th>Time_Spent</th>\n",
       "      <th>Date</th>\n",
       "    </tr>\n",
       "  </thead>\n",
       "  <tbody>\n",
       "    <tr>\n",
       "      <th>0</th>\n",
       "      <td>mridubhatnagar</td>\n",
       "      <td>NaN</td>\n",
       "      <td>NaN</td>\n",
       "      <td>2018-10-12</td>\n",
       "    </tr>\n",
       "    <tr>\n",
       "      <th>1</th>\n",
       "      <td>vipinreyo</td>\n",
       "      <td>2.0</td>\n",
       "      <td>3.0</td>\n",
       "      <td>2018-10-12</td>\n",
       "    </tr>\n",
       "    <tr>\n",
       "      <th>2</th>\n",
       "      <td>clamytoe</td>\n",
       "      <td>2.0</td>\n",
       "      <td>2.0</td>\n",
       "      <td>2018-10-11</td>\n",
       "    </tr>\n",
       "    <tr>\n",
       "      <th>3</th>\n",
       "      <td>habereet</td>\n",
       "      <td>1.0</td>\n",
       "      <td>1.0</td>\n",
       "      <td>2018-10-10</td>\n",
       "    </tr>\n",
       "    <tr>\n",
       "      <th>4</th>\n",
       "      <td>mridubhatnagar</td>\n",
       "      <td>NaN</td>\n",
       "      <td>NaN</td>\n",
       "      <td>2018-10-09</td>\n",
       "    </tr>\n",
       "    <tr>\n",
       "      <th>5</th>\n",
       "      <td>htv2012</td>\n",
       "      <td>NaN</td>\n",
       "      <td>NaN</td>\n",
       "      <td>2018-10-09</td>\n",
       "    </tr>\n",
       "    <tr>\n",
       "      <th>6</th>\n",
       "      <td>mridubhatnagar</td>\n",
       "      <td>NaN</td>\n",
       "      <td>NaN</td>\n",
       "      <td>2018-10-08</td>\n",
       "    </tr>\n",
       "    <tr>\n",
       "      <th>7</th>\n",
       "      <td>bryankimani</td>\n",
       "      <td>NaN</td>\n",
       "      <td>NaN</td>\n",
       "      <td>2018-10-08</td>\n",
       "    </tr>\n",
       "    <tr>\n",
       "      <th>8</th>\n",
       "      <td>pgmilenkov</td>\n",
       "      <td>4.0</td>\n",
       "      <td>2.0</td>\n",
       "      <td>2018-10-08</td>\n",
       "    </tr>\n",
       "    <tr>\n",
       "      <th>9</th>\n",
       "      <td>pgmilenkov</td>\n",
       "      <td>6.0</td>\n",
       "      <td>2.0</td>\n",
       "      <td>2018-10-08</td>\n",
       "    </tr>\n",
       "    <tr>\n",
       "      <th>10</th>\n",
       "      <td>sorian</td>\n",
       "      <td>1.0</td>\n",
       "      <td>1.0</td>\n",
       "      <td>2018-10-07</td>\n",
       "    </tr>\n",
       "    <tr>\n",
       "      <th>11</th>\n",
       "      <td>sorian</td>\n",
       "      <td>2.0</td>\n",
       "      <td>1.0</td>\n",
       "      <td>2018-10-07</td>\n",
       "    </tr>\n",
       "    <tr>\n",
       "      <th>12</th>\n",
       "      <td>sorian</td>\n",
       "      <td>2.0</td>\n",
       "      <td>1.0</td>\n",
       "      <td>2018-10-07</td>\n",
       "    </tr>\n",
       "    <tr>\n",
       "      <th>13</th>\n",
       "      <td>sorian</td>\n",
       "      <td>2.0</td>\n",
       "      <td>1.0</td>\n",
       "      <td>2018-10-07</td>\n",
       "    </tr>\n",
       "    <tr>\n",
       "      <th>14</th>\n",
       "      <td>sorian</td>\n",
       "      <td>2.0</td>\n",
       "      <td>1.0</td>\n",
       "      <td>2018-10-07</td>\n",
       "    </tr>\n",
       "    <tr>\n",
       "      <th>15</th>\n",
       "      <td>pgmilenkov</td>\n",
       "      <td>6.0</td>\n",
       "      <td>2.0</td>\n",
       "      <td>2018-10-07</td>\n",
       "    </tr>\n",
       "    <tr>\n",
       "      <th>16</th>\n",
       "      <td>vipinreyo</td>\n",
       "      <td>3.0</td>\n",
       "      <td>4.0</td>\n",
       "      <td>2018-10-07</td>\n",
       "    </tr>\n",
       "    <tr>\n",
       "      <th>17</th>\n",
       "      <td>bbelderbos</td>\n",
       "      <td>4.0</td>\n",
       "      <td>2.0</td>\n",
       "      <td>2018-10-05</td>\n",
       "    </tr>\n",
       "    <tr>\n",
       "      <th>18</th>\n",
       "      <td>clamytoe</td>\n",
       "      <td>6.0</td>\n",
       "      <td>4.0</td>\n",
       "      <td>2018-10-05</td>\n",
       "    </tr>\n",
       "    <tr>\n",
       "      <th>19</th>\n",
       "      <td>hobojoe1848</td>\n",
       "      <td>8.0</td>\n",
       "      <td>3.0</td>\n",
       "      <td>2018-10-05</td>\n",
       "    </tr>\n",
       "    <tr>\n",
       "      <th>20</th>\n",
       "      <td>vipinreyo</td>\n",
       "      <td>3.0</td>\n",
       "      <td>3.0</td>\n",
       "      <td>2018-10-05</td>\n",
       "    </tr>\n",
       "    <tr>\n",
       "      <th>21</th>\n",
       "      <td>bbelderbos</td>\n",
       "      <td>3.0</td>\n",
       "      <td>3.0</td>\n",
       "      <td>2018-10-05</td>\n",
       "    </tr>\n",
       "    <tr>\n",
       "      <th>22</th>\n",
       "      <td>clamytoe</td>\n",
       "      <td>4.0</td>\n",
       "      <td>8.0</td>\n",
       "      <td>2018-10-05</td>\n",
       "    </tr>\n",
       "    <tr>\n",
       "      <th>23</th>\n",
       "      <td>clamytoe</td>\n",
       "      <td>4.0</td>\n",
       "      <td>8.0</td>\n",
       "      <td>2018-10-05</td>\n",
       "    </tr>\n",
       "    <tr>\n",
       "      <th>24</th>\n",
       "      <td>clamytoe</td>\n",
       "      <td>4.0</td>\n",
       "      <td>4.0</td>\n",
       "      <td>2018-10-05</td>\n",
       "    </tr>\n",
       "    <tr>\n",
       "      <th>25</th>\n",
       "      <td>vipinreyo</td>\n",
       "      <td>2.0</td>\n",
       "      <td>2.0</td>\n",
       "      <td>2018-10-04</td>\n",
       "    </tr>\n",
       "    <tr>\n",
       "      <th>26</th>\n",
       "      <td>demarcoz</td>\n",
       "      <td>6.0</td>\n",
       "      <td>3.0</td>\n",
       "      <td>2018-10-04</td>\n",
       "    </tr>\n",
       "    <tr>\n",
       "      <th>27</th>\n",
       "      <td>clamytoe</td>\n",
       "      <td>5.0</td>\n",
       "      <td>2.0</td>\n",
       "      <td>2018-10-04</td>\n",
       "    </tr>\n",
       "    <tr>\n",
       "      <th>28</th>\n",
       "      <td>vipinreyo</td>\n",
       "      <td>5.0</td>\n",
       "      <td>6.0</td>\n",
       "      <td>2018-10-04</td>\n",
       "    </tr>\n",
       "    <tr>\n",
       "      <th>29</th>\n",
       "      <td>nightwarrior-xxx</td>\n",
       "      <td>5.0</td>\n",
       "      <td>1.0</td>\n",
       "      <td>2018-10-03</td>\n",
       "    </tr>\n",
       "    <tr>\n",
       "      <th>...</th>\n",
       "      <td>...</td>\n",
       "      <td>...</td>\n",
       "      <td>...</td>\n",
       "      <td>...</td>\n",
       "    </tr>\n",
       "    <tr>\n",
       "      <th>41</th>\n",
       "      <td>pgmilenkov</td>\n",
       "      <td>4.0</td>\n",
       "      <td>2.0</td>\n",
       "      <td>2018-10-08</td>\n",
       "    </tr>\n",
       "    <tr>\n",
       "      <th>42</th>\n",
       "      <td>pgmilenkov</td>\n",
       "      <td>6.0</td>\n",
       "      <td>2.0</td>\n",
       "      <td>2018-10-08</td>\n",
       "    </tr>\n",
       "    <tr>\n",
       "      <th>43</th>\n",
       "      <td>sorian</td>\n",
       "      <td>1.0</td>\n",
       "      <td>1.0</td>\n",
       "      <td>2018-10-07</td>\n",
       "    </tr>\n",
       "    <tr>\n",
       "      <th>44</th>\n",
       "      <td>sorian</td>\n",
       "      <td>2.0</td>\n",
       "      <td>1.0</td>\n",
       "      <td>2018-10-07</td>\n",
       "    </tr>\n",
       "    <tr>\n",
       "      <th>45</th>\n",
       "      <td>sorian</td>\n",
       "      <td>2.0</td>\n",
       "      <td>1.0</td>\n",
       "      <td>2018-10-07</td>\n",
       "    </tr>\n",
       "    <tr>\n",
       "      <th>46</th>\n",
       "      <td>sorian</td>\n",
       "      <td>2.0</td>\n",
       "      <td>1.0</td>\n",
       "      <td>2018-10-07</td>\n",
       "    </tr>\n",
       "    <tr>\n",
       "      <th>47</th>\n",
       "      <td>sorian</td>\n",
       "      <td>2.0</td>\n",
       "      <td>1.0</td>\n",
       "      <td>2018-10-07</td>\n",
       "    </tr>\n",
       "    <tr>\n",
       "      <th>48</th>\n",
       "      <td>pgmilenkov</td>\n",
       "      <td>6.0</td>\n",
       "      <td>2.0</td>\n",
       "      <td>2018-10-07</td>\n",
       "    </tr>\n",
       "    <tr>\n",
       "      <th>49</th>\n",
       "      <td>vipinreyo</td>\n",
       "      <td>3.0</td>\n",
       "      <td>4.0</td>\n",
       "      <td>2018-10-07</td>\n",
       "    </tr>\n",
       "    <tr>\n",
       "      <th>50</th>\n",
       "      <td>bbelderbos</td>\n",
       "      <td>4.0</td>\n",
       "      <td>2.0</td>\n",
       "      <td>2018-10-05</td>\n",
       "    </tr>\n",
       "    <tr>\n",
       "      <th>51</th>\n",
       "      <td>clamytoe</td>\n",
       "      <td>6.0</td>\n",
       "      <td>4.0</td>\n",
       "      <td>2018-10-05</td>\n",
       "    </tr>\n",
       "    <tr>\n",
       "      <th>52</th>\n",
       "      <td>hobojoe1848</td>\n",
       "      <td>8.0</td>\n",
       "      <td>3.0</td>\n",
       "      <td>2018-10-05</td>\n",
       "    </tr>\n",
       "    <tr>\n",
       "      <th>53</th>\n",
       "      <td>vipinreyo</td>\n",
       "      <td>3.0</td>\n",
       "      <td>3.0</td>\n",
       "      <td>2018-10-05</td>\n",
       "    </tr>\n",
       "    <tr>\n",
       "      <th>54</th>\n",
       "      <td>bbelderbos</td>\n",
       "      <td>3.0</td>\n",
       "      <td>3.0</td>\n",
       "      <td>2018-10-05</td>\n",
       "    </tr>\n",
       "    <tr>\n",
       "      <th>55</th>\n",
       "      <td>clamytoe</td>\n",
       "      <td>4.0</td>\n",
       "      <td>8.0</td>\n",
       "      <td>2018-10-05</td>\n",
       "    </tr>\n",
       "    <tr>\n",
       "      <th>56</th>\n",
       "      <td>clamytoe</td>\n",
       "      <td>4.0</td>\n",
       "      <td>8.0</td>\n",
       "      <td>2018-10-05</td>\n",
       "    </tr>\n",
       "    <tr>\n",
       "      <th>57</th>\n",
       "      <td>clamytoe</td>\n",
       "      <td>4.0</td>\n",
       "      <td>4.0</td>\n",
       "      <td>2018-10-05</td>\n",
       "    </tr>\n",
       "    <tr>\n",
       "      <th>58</th>\n",
       "      <td>vipinreyo</td>\n",
       "      <td>2.0</td>\n",
       "      <td>2.0</td>\n",
       "      <td>2018-10-04</td>\n",
       "    </tr>\n",
       "    <tr>\n",
       "      <th>59</th>\n",
       "      <td>demarcoz</td>\n",
       "      <td>6.0</td>\n",
       "      <td>3.0</td>\n",
       "      <td>2018-10-04</td>\n",
       "    </tr>\n",
       "    <tr>\n",
       "      <th>60</th>\n",
       "      <td>clamytoe</td>\n",
       "      <td>5.0</td>\n",
       "      <td>2.0</td>\n",
       "      <td>2018-10-04</td>\n",
       "    </tr>\n",
       "    <tr>\n",
       "      <th>61</th>\n",
       "      <td>vipinreyo</td>\n",
       "      <td>5.0</td>\n",
       "      <td>6.0</td>\n",
       "      <td>2018-10-04</td>\n",
       "    </tr>\n",
       "    <tr>\n",
       "      <th>62</th>\n",
       "      <td>nightwarrior-xxx</td>\n",
       "      <td>5.0</td>\n",
       "      <td>1.0</td>\n",
       "      <td>2018-10-03</td>\n",
       "    </tr>\n",
       "    <tr>\n",
       "      <th>63</th>\n",
       "      <td>habereet</td>\n",
       "      <td>1.0</td>\n",
       "      <td>1.0</td>\n",
       "      <td>2018-10-03</td>\n",
       "    </tr>\n",
       "    <tr>\n",
       "      <th>64</th>\n",
       "      <td>demarcoz</td>\n",
       "      <td>5.0</td>\n",
       "      <td>1.0</td>\n",
       "      <td>2018-10-03</td>\n",
       "    </tr>\n",
       "    <tr>\n",
       "      <th>65</th>\n",
       "      <td>metallrooch</td>\n",
       "      <td>1.0</td>\n",
       "      <td>2.0</td>\n",
       "      <td>2018-10-02</td>\n",
       "    </tr>\n",
       "    <tr>\n",
       "      <th>66</th>\n",
       "      <td>sorian</td>\n",
       "      <td>NaN</td>\n",
       "      <td>NaN</td>\n",
       "      <td>2018-10-02</td>\n",
       "    </tr>\n",
       "    <tr>\n",
       "      <th>67</th>\n",
       "      <td>sorian</td>\n",
       "      <td>NaN</td>\n",
       "      <td>NaN</td>\n",
       "      <td>2018-10-02</td>\n",
       "    </tr>\n",
       "    <tr>\n",
       "      <th>68</th>\n",
       "      <td>sorian</td>\n",
       "      <td>NaN</td>\n",
       "      <td>NaN</td>\n",
       "      <td>2018-10-02</td>\n",
       "    </tr>\n",
       "    <tr>\n",
       "      <th>69</th>\n",
       "      <td>demarcoz</td>\n",
       "      <td>5.0</td>\n",
       "      <td>1.0</td>\n",
       "      <td>2018-10-02</td>\n",
       "    </tr>\n",
       "    <tr>\n",
       "      <th>70</th>\n",
       "      <td>rhyspowell</td>\n",
       "      <td>3.0</td>\n",
       "      <td>1.0</td>\n",
       "      <td>2018-10-02</td>\n",
       "    </tr>\n",
       "  </tbody>\n",
       "</table>\n",
       "<p>71 rows × 4 columns</p>\n",
       "</div>"
      ],
      "text/plain": [
       "          Developers  Difficulty_Levels  Time_Spent        Date\n",
       "0     mridubhatnagar                NaN         NaN  2018-10-12\n",
       "1          vipinreyo                2.0         3.0  2018-10-12\n",
       "2           clamytoe                2.0         2.0  2018-10-11\n",
       "3           habereet                1.0         1.0  2018-10-10\n",
       "4     mridubhatnagar                NaN         NaN  2018-10-09\n",
       "5            htv2012                NaN         NaN  2018-10-09\n",
       "6     mridubhatnagar                NaN         NaN  2018-10-08\n",
       "7        bryankimani                NaN         NaN  2018-10-08\n",
       "8         pgmilenkov                4.0         2.0  2018-10-08\n",
       "9         pgmilenkov                6.0         2.0  2018-10-08\n",
       "10            sorian                1.0         1.0  2018-10-07\n",
       "11            sorian                2.0         1.0  2018-10-07\n",
       "12            sorian                2.0         1.0  2018-10-07\n",
       "13            sorian                2.0         1.0  2018-10-07\n",
       "14            sorian                2.0         1.0  2018-10-07\n",
       "15        pgmilenkov                6.0         2.0  2018-10-07\n",
       "16         vipinreyo                3.0         4.0  2018-10-07\n",
       "17        bbelderbos                4.0         2.0  2018-10-05\n",
       "18          clamytoe                6.0         4.0  2018-10-05\n",
       "19       hobojoe1848                8.0         3.0  2018-10-05\n",
       "20         vipinreyo                3.0         3.0  2018-10-05\n",
       "21        bbelderbos                3.0         3.0  2018-10-05\n",
       "22          clamytoe                4.0         8.0  2018-10-05\n",
       "23          clamytoe                4.0         8.0  2018-10-05\n",
       "24          clamytoe                4.0         4.0  2018-10-05\n",
       "25         vipinreyo                2.0         2.0  2018-10-04\n",
       "26          demarcoz                6.0         3.0  2018-10-04\n",
       "27          clamytoe                5.0         2.0  2018-10-04\n",
       "28         vipinreyo                5.0         6.0  2018-10-04\n",
       "29  nightwarrior-xxx                5.0         1.0  2018-10-03\n",
       "..               ...                ...         ...         ...\n",
       "41        pgmilenkov                4.0         2.0  2018-10-08\n",
       "42        pgmilenkov                6.0         2.0  2018-10-08\n",
       "43            sorian                1.0         1.0  2018-10-07\n",
       "44            sorian                2.0         1.0  2018-10-07\n",
       "45            sorian                2.0         1.0  2018-10-07\n",
       "46            sorian                2.0         1.0  2018-10-07\n",
       "47            sorian                2.0         1.0  2018-10-07\n",
       "48        pgmilenkov                6.0         2.0  2018-10-07\n",
       "49         vipinreyo                3.0         4.0  2018-10-07\n",
       "50        bbelderbos                4.0         2.0  2018-10-05\n",
       "51          clamytoe                6.0         4.0  2018-10-05\n",
       "52       hobojoe1848                8.0         3.0  2018-10-05\n",
       "53         vipinreyo                3.0         3.0  2018-10-05\n",
       "54        bbelderbos                3.0         3.0  2018-10-05\n",
       "55          clamytoe                4.0         8.0  2018-10-05\n",
       "56          clamytoe                4.0         8.0  2018-10-05\n",
       "57          clamytoe                4.0         4.0  2018-10-05\n",
       "58         vipinreyo                2.0         2.0  2018-10-04\n",
       "59          demarcoz                6.0         3.0  2018-10-04\n",
       "60          clamytoe                5.0         2.0  2018-10-04\n",
       "61         vipinreyo                5.0         6.0  2018-10-04\n",
       "62  nightwarrior-xxx                5.0         1.0  2018-10-03\n",
       "63          habereet                1.0         1.0  2018-10-03\n",
       "64          demarcoz                5.0         1.0  2018-10-03\n",
       "65       metallrooch                1.0         2.0  2018-10-02\n",
       "66            sorian                NaN         NaN  2018-10-02\n",
       "67            sorian                NaN         NaN  2018-10-02\n",
       "68            sorian                NaN         NaN  2018-10-02\n",
       "69          demarcoz                5.0         1.0  2018-10-02\n",
       "70        rhyspowell                3.0         1.0  2018-10-02\n",
       "\n",
       "[71 rows x 4 columns]"
      ]
     },
     "execution_count": 5,
     "metadata": {},
     "output_type": "execute_result"
    }
   ],
   "source": [
    "# create the DataFrame\n",
    "df = pd.DataFrame({\n",
    "    'Developers': devs, \n",
    "    'Difficulty_Levels': diff_levels, \n",
    "    'Time_Spent': time_spent,\n",
    "    'Date': created,\n",
    "})\n",
    "df"
   ]
  },
  {
   "cell_type": "markdown",
   "metadata": {},
   "source": [
    "## Data Exploration"
   ]
  },
  {
   "cell_type": "markdown",
   "metadata": {},
   "source": [
    "Here, we can start exploring the data."
   ]
  },
  {
   "cell_type": "code",
   "execution_count": 6,
   "metadata": {},
   "outputs": [
    {
     "data": {
      "text/html": [
       "<div>\n",
       "<style scoped>\n",
       "    .dataframe tbody tr th:only-of-type {\n",
       "        vertical-align: middle;\n",
       "    }\n",
       "\n",
       "    .dataframe tbody tr th {\n",
       "        vertical-align: top;\n",
       "    }\n",
       "\n",
       "    .dataframe thead th {\n",
       "        text-align: right;\n",
       "    }\n",
       "</style>\n",
       "<table border=\"1\" class=\"dataframe\">\n",
       "  <thead>\n",
       "    <tr style=\"text-align: right;\">\n",
       "      <th></th>\n",
       "      <th>Difficulty_Levels</th>\n",
       "      <th>Time_Spent</th>\n",
       "    </tr>\n",
       "  </thead>\n",
       "  <tbody>\n",
       "    <tr>\n",
       "      <th>count</th>\n",
       "      <td>57.000000</td>\n",
       "      <td>57.000000</td>\n",
       "    </tr>\n",
       "    <tr>\n",
       "      <th>mean</th>\n",
       "      <td>3.666667</td>\n",
       "      <td>2.561404</td>\n",
       "    </tr>\n",
       "    <tr>\n",
       "      <th>std</th>\n",
       "      <td>1.825742</td>\n",
       "      <td>1.945852</td>\n",
       "    </tr>\n",
       "    <tr>\n",
       "      <th>min</th>\n",
       "      <td>1.000000</td>\n",
       "      <td>1.000000</td>\n",
       "    </tr>\n",
       "    <tr>\n",
       "      <th>25%</th>\n",
       "      <td>2.000000</td>\n",
       "      <td>1.000000</td>\n",
       "    </tr>\n",
       "    <tr>\n",
       "      <th>50%</th>\n",
       "      <td>4.000000</td>\n",
       "      <td>2.000000</td>\n",
       "    </tr>\n",
       "    <tr>\n",
       "      <th>75%</th>\n",
       "      <td>5.000000</td>\n",
       "      <td>3.000000</td>\n",
       "    </tr>\n",
       "    <tr>\n",
       "      <th>max</th>\n",
       "      <td>8.000000</td>\n",
       "      <td>8.000000</td>\n",
       "    </tr>\n",
       "  </tbody>\n",
       "</table>\n",
       "</div>"
      ],
      "text/plain": [
       "       Difficulty_Levels  Time_Spent\n",
       "count          57.000000   57.000000\n",
       "mean            3.666667    2.561404\n",
       "std             1.825742    1.945852\n",
       "min             1.000000    1.000000\n",
       "25%             2.000000    1.000000\n",
       "50%             4.000000    2.000000\n",
       "75%             5.000000    3.000000\n",
       "max             8.000000    8.000000"
      ]
     },
     "execution_count": 6,
     "metadata": {},
     "output_type": "execute_result"
    }
   ],
   "source": [
    "# lets examine our df\n",
    "df.describe()"
   ]
  },
  {
   "cell_type": "markdown",
   "metadata": {},
   "source": [
    "Exploration starts, just wanted to get a feel for things here."
   ]
  },
  {
   "cell_type": "code",
   "execution_count": 7,
   "metadata": {},
   "outputs": [
    {
     "name": "stdout",
     "output_type": "stream",
     "text": [
      "Developers: 71\n",
      "Average Difficulty: 4.0\n",
      "Time Spent: 146.0\n"
     ]
    }
   ],
   "source": [
    "# just exploring the data\n",
    "print(f'Developers: {len(df[\"Developers\"])}')\n",
    "print(f'Average Difficulty: {df[\"Difficulty_Levels\"].median()}')\n",
    "print(f'Time Spent: {df[\"Time_Spent\"].sum()}')"
   ]
  },
  {
   "cell_type": "markdown",
   "metadata": {},
   "source": [
    "The following Counters are just me exploring the data even further."
   ]
  },
  {
   "cell_type": "code",
   "execution_count": 8,
   "metadata": {},
   "outputs": [
    {
     "data": {
      "text/plain": [
       "[('sorian', 16),\n",
       " ('clamytoe', 11),\n",
       " ('vipinreyo', 9),\n",
       " ('pgmilenkov', 6),\n",
       " ('demarcoz', 6),\n",
       " ('mridubhatnagar', 4)]"
      ]
     },
     "execution_count": 8,
     "metadata": {},
     "output_type": "execute_result"
    }
   ],
   "source": [
    "# developer counter\n",
    "developers = Counter(df['Developers']).most_common(6)\n",
    "developers"
   ]
  },
  {
   "cell_type": "code",
   "execution_count": 9,
   "metadata": {},
   "outputs": [
    {
     "data": {
      "text/plain": [
       "[(2.0, 12), (4.0, 10), (5.0, 10), (6.0, 8), (3.0, 8), (1.0, 7), (8.0, 2)]"
      ]
     },
     "execution_count": 9,
     "metadata": {},
     "output_type": "execute_result"
    }
   ],
   "source": [
    "# difficulty counter\n",
    "bite_difficulty = Counter(df['Difficulty_Levels'].dropna()).most_common()\n",
    "bite_difficulty"
   ]
  },
  {
   "cell_type": "code",
   "execution_count": 10,
   "metadata": {},
   "outputs": [
    {
     "data": {
      "text/plain": [
       "[(1.0, 21), (2.0, 15), (3.0, 9), (4.0, 6), (8.0, 4), (6.0, 2)]"
      ]
     },
     "execution_count": 10,
     "metadata": {},
     "output_type": "execute_result"
    }
   ],
   "source": [
    "# duration counter\n",
    "bite_duration = Counter(df['Time_Spent'].dropna()).most_common()\n",
    "bite_duration"
   ]
  },
  {
   "cell_type": "code",
   "execution_count": 11,
   "metadata": {},
   "outputs": [
    {
     "data": {
      "text/plain": [
       "[('2018-10-02', 12),\n",
       " ('2018-10-03', 6),\n",
       " ('2018-10-04', 8),\n",
       " ('2018-10-05', 16),\n",
       " ('2018-10-07', 14),\n",
       " ('2018-10-08', 8),\n",
       " ('2018-10-09', 3),\n",
       " ('2018-10-10', 1),\n",
       " ('2018-10-11', 1),\n",
       " ('2018-10-12', 2)]"
      ]
     },
     "execution_count": 11,
     "metadata": {},
     "output_type": "execute_result"
    }
   ],
   "source": [
    "# date counter\n",
    "created_at = sorted(Counter(df['Date'].dropna()).most_common())\n",
    "created_at"
   ]
  },
  {
   "cell_type": "markdown",
   "metadata": {},
   "source": [
    "## Number of Pull Request per Day"
   ]
  },
  {
   "cell_type": "markdown",
   "metadata": {},
   "source": [
    "Pretty amazing that [Pybites Blog Challenges](https://codechalleng.es/challenges/) had over **300** distinct github interactions in just **10 days**!!!"
   ]
  },
  {
   "cell_type": "code",
   "execution_count": 12,
   "metadata": {},
   "outputs": [
    {
     "data": {
      "image/png": "[encoded data removed]",
      "text/plain": [
       "<Figure size 480x480 with 1 Axes>"
      ]
     },
     "metadata": {},
     "output_type": "display_data"
    }
   ],
   "source": [
    "# resize graph\n",
    "figure(num=None, figsize=(6, 6), dpi=80, facecolor='w', edgecolor='k')\n",
    "\n",
    "# gather data into a custom DataFrame\n",
    "dates = [day[0] for day in created_at]\n",
    "prs = [pr[1] for pr in created_at]\n",
    "df_prs = pd.DataFrame({'xvalues': dates, 'yvalues': prs})\n",
    " \n",
    "# plot\n",
    "plt.plot('xvalues', 'yvalues', data=df_prs)\n",
    "\n",
    "# labels\n",
    "plt.xticks(rotation='vertical', fontweight='bold')\n",
    "\n",
    "# title\n",
    "plt.title('Number of Pull Request per Day')\n",
    "\n",
    "# show the graphic\n",
    "plt.show()"
   ]
  },
  {
   "cell_type": "markdown",
   "metadata": {},
   "source": [
    "## Top Blog Challenge Ninjas"
   ]
  },
  {
   "cell_type": "markdown",
   "metadata": {},
   "source": [
    "Although there are many more contributors, I had to limit the count so that the data would be easier to visualize."
   ]
  },
  {
   "cell_type": "code",
   "execution_count": 13,
   "metadata": {},
   "outputs": [
    {
     "data": {
      "image/png": "[encoded data removed]",
      "text/plain": [
       "<Figure size 480x480 with 1 Axes>"
      ]
     },
     "metadata": {},
     "output_type": "display_data"
    }
   ],
   "source": [
    "# resize graph\n",
    "figure(num=None, figsize=(6, 6), dpi=80, facecolor='w', edgecolor='k')\n",
    "\n",
    "# create labels\n",
    "labels = [dev[0] for dev in developers]\n",
    "\n",
    "# get a count of the pull requests\n",
    "prs = [dev[1] for dev in developers]\n",
    "\n",
    "# pull out top ninja slice\n",
    "explode = [0] * len(developers)\n",
    "explode[0] = 0.1\n",
    "\n",
    "# create the pie chart\n",
    "plt.pie(prs, explode=explode, labels=labels, shadow=True, startangle=90)\n",
    "\n",
    "# add title and center\n",
    "plt.axis('equal')\n",
    "plt.title('Top Blog Challenge Ninjas')\n",
    "\n",
    "# show the graphic\n",
    "plt.show()"
   ]
  },
  {
   "cell_type": "markdown",
   "metadata": {},
   "source": [
    "## Time Spent/Difficulty Level per Pull Request"
   ]
  },
  {
   "cell_type": "markdown",
   "metadata": {},
   "source": [
    "Finally I wanted to explore what the relation between time spent per PR vs how difficult the develop found the challenge to be."
   ]
  },
  {
   "cell_type": "code",
   "execution_count": 14,
   "metadata": {},
   "outputs": [
    {
     "data": {
      "image/png": "[encoded data removed]",
      "text/plain": [
       "<Figure size 1200x480 with 1 Axes>"
      ]
     },
     "metadata": {},
     "output_type": "display_data"
    }
   ],
   "source": [
    "# resize graph\n",
    "figure(num=None, figsize=(15, 6), dpi=80, facecolor='w', edgecolor='k')\n",
    "\n",
    "# drop null values\n",
    "df_clean = df.dropna()\n",
    "\n",
    "# add legend\n",
    "diff = mpatches.Patch(color='#557f2d', label='Difficulty Level')\n",
    "time = mpatches.Patch(color='#2d7f5e', label='Time Spent')\n",
    "plt.legend(handles=[time, diff])\n",
    "\n",
    "# y-axis in bold\n",
    "rc('font', weight='bold')\n",
    "\n",
    "# values of each group\n",
    "bars1 = df_clean['Difficulty_Levels']\n",
    "bars2 = df_clean['Time_Spent']\n",
    "\n",
    "# heights of bars1 + bars2\n",
    "bars = df_clean['Difficulty_Levels'] + df_clean['Time_Spent']\n",
    "\n",
    "# position of the bars on the x-axis\n",
    "r = range(len(df_clean))\n",
    "\n",
    "# names of group and bar width\n",
    "names = df_clean['Developers']\n",
    "barWidth = 1\n",
    "\n",
    "# create green bars (bottom)\n",
    "plt.bar(r, bars1, color='#557f2d', edgecolor='white', width=barWidth)\n",
    "# create green bars (top), on top of the firs ones\n",
    "plt.bar(r, bars2, bottom=bars1, color='#2d7f5e', edgecolor='white', width=barWidth)\n",
    "\n",
    "# custom X axis\n",
    "plt.xticks(r, names, rotation='vertical', fontweight='bold')\n",
    "plt.xlabel(\"Developers\", fontweight='bold')\n",
    "\n",
    "# title\n",
    "plt.title('Time Spent/Difficulty Level per Pull Request')\n",
    "\n",
    "# show graphic\n",
    "plt.show()"
   ]
  }
 ],
 "metadata": {
  "kernelspec": {
   "display_name": "Python 3",
   "language": "python",
   "name": "python3"
  },
  "language_info": {
   "codemirror_mode": {
    "name": "ipython",
    "version": 3
   },
   "file_extension": ".py",
   "mimetype": "text/x-python",
   "name": "python",
   "nbconvert_exporter": "python",
   "pygments_lexer": "ipython3",
   "version": "3.6.6"
  }
 },
 "nbformat": 4,
 "nbformat_minor": 2
}
