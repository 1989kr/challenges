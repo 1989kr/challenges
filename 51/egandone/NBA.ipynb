{
 "cells": [
  {
   "cell_type": "code",
   "execution_count": 17,
   "metadata": {},
   "outputs": [],
   "source": [
    "from collections import namedtuple\n",
    "import csv\n",
    "import os\n",
    "import sqlite3\n",
    "import pandas as pd\n",
    "\n",
    "import requests\n",
    "\n",
    "DATA_URL = 'https://query.data.world/s/ezwk64ej624qyverrw6x7od7co7ftm'\n",
    "DATA_CACHED = 'nba.data'\n",
    "NBA_DB = 'nba.db'"
   ]
  },
  {
   "cell_type": "code",
   "execution_count": 18,
   "metadata": {},
   "outputs": [],
   "source": [
    "# start clean\n",
    "if os.path.isfile(NBA_DB):\n",
    "    os.remove(NBA_DB)\n",
    "\n",
    "Player = namedtuple('Player', ('name year first_year team college active '\n",
    "                               'games avg_min avg_points'))\n",
    "\n",
    "conn = sqlite3.connect(NBA_DB)\n",
    "cur = conn.cursor()"
   ]
  },
  {
   "cell_type": "code",
   "execution_count": 19,
   "metadata": {},
   "outputs": [],
   "source": [
    "def _get_csv_data():\n",
    "    \"\"\"GIVEN:\n",
    "       Load in CSV data in from remote URL or local cache file\"\"\"\n",
    "    if os.path.isfile(DATA_CACHED):\n",
    "        with open(DATA_CACHED) as f:\n",
    "            return f.read()\n",
    "    else:\n",
    "        with requests.Session() as session:\n",
    "            return session.get(DATA_URL).content.decode('utf-8')\n",
    "\n",
    "\n",
    "def load_data():\n",
    "    \"\"\"GIVEN:\n",
    "       Converts NBA CSV data into a list of Player namedtuples\"\"\"\n",
    "    content = _get_csv_data()\n",
    "    reader = csv.DictReader(content.splitlines(), delimiter=',')\n",
    "    for row in reader:\n",
    "        player = Player(name=row['Player'],\n",
    "                        year=row['Draft_Yr'],\n",
    "                        first_year=row['first_year'],\n",
    "                        team=row['Team'],\n",
    "                        college=row['College'],\n",
    "                        active=row['Yrs'],\n",
    "                        games=row['Games'],\n",
    "                        avg_min=row['Minutes.per.Game'],\n",
    "                        avg_points=row['Points.per.Game'])\n",
    "        yield player\n",
    "\n",
    "# CODE HERE (tests under __main__):"
   ]
  },
  {
   "cell_type": "code",
   "execution_count": 20,
   "metadata": {},
   "outputs": [
    {
     "data": {
      "text/plain": [
       "<sqlite3.Cursor at 0x6ee6ffa0>"
      ]
     },
     "execution_count": 20,
     "metadata": {},
     "output_type": "execute_result"
    }
   ],
   "source": [
    "cur.execute(\"\"\"\n",
    "    CREATE TABLE players (\n",
    "        name, \n",
    "        year, \n",
    "        first_year, \n",
    "        team, \n",
    "        college,\n",
    "        active, \n",
    "        games, \n",
    "        avg_min, \n",
    "        avg_points)\"\"\")"
   ]
  },
  {
   "cell_type": "code",
   "execution_count": 21,
   "metadata": {},
   "outputs": [
    {
     "data": {
      "text/plain": [
       "<sqlite3.Cursor at 0x6ee6ffa0>"
      ]
     },
     "execution_count": 21,
     "metadata": {},
     "output_type": "execute_result"
    }
   ],
   "source": [
    "players = list(load_data())\n",
    "cur.executemany(\"\"\"INSERT INTO players \n",
    "                          (name, year, first_year, team, college, active, games, avg_min, avg_points) \n",
    "                   VALUES (   ?,    ?,          ?,    ?,       ?,      ?,     ?,       ?,          ?)\"\"\", players)\n",
    "\n"
   ]
  },
  {
   "cell_type": "code",
   "execution_count": 24,
   "metadata": {},
   "outputs": [
    {
     "data": {
      "text/html": [
       "<div>\n",
       "<style scoped>\n",
       "    .dataframe tbody tr th:only-of-type {\n",
       "        vertical-align: middle;\n",
       "    }\n",
       "\n",
       "    .dataframe tbody tr th {\n",
       "        vertical-align: top;\n",
       "    }\n",
       "\n",
       "    .dataframe thead th {\n",
       "        text-align: right;\n",
       "    }\n",
       "</style>\n",
       "<table border=\"1\" class=\"dataframe\">\n",
       "  <thead>\n",
       "    <tr style=\"text-align: right;\">\n",
       "      <th></th>\n",
       "      <th>name</th>\n",
       "      <th>year</th>\n",
       "      <th>first_year</th>\n",
       "      <th>team</th>\n",
       "      <th>college</th>\n",
       "      <th>active</th>\n",
       "      <th>games</th>\n",
       "      <th>avg_min</th>\n",
       "      <th>avg_points</th>\n",
       "    </tr>\n",
       "  </thead>\n",
       "  <tbody>\n",
       "    <tr>\n",
       "      <th>0</th>\n",
       "      <td>Robert Parish</td>\n",
       "      <td>1976</td>\n",
       "      <td>0</td>\n",
       "      <td>GSW</td>\n",
       "      <td>Centenary College of Louisiana</td>\n",
       "      <td>21</td>\n",
       "      <td>1611</td>\n",
       "      <td>28.4</td>\n",
       "      <td>14.5</td>\n",
       "    </tr>\n",
       "    <tr>\n",
       "      <th>1</th>\n",
       "      <td>Sonny Parker</td>\n",
       "      <td>1976</td>\n",
       "      <td>0</td>\n",
       "      <td>GSW</td>\n",
       "      <td>Texas A&amp;M University</td>\n",
       "      <td>6</td>\n",
       "      <td>452</td>\n",
       "      <td>24.2</td>\n",
       "      <td>9.9</td>\n",
       "    </tr>\n",
       "    <tr>\n",
       "      <th>2</th>\n",
       "      <td>Marshall Rogers</td>\n",
       "      <td>1976</td>\n",
       "      <td>0</td>\n",
       "      <td>GSW</td>\n",
       "      <td>University of Texas-Pan American</td>\n",
       "      <td>1</td>\n",
       "      <td>26</td>\n",
       "      <td>6.8</td>\n",
       "      <td>3.8</td>\n",
       "    </tr>\n",
       "    <tr>\n",
       "      <th>3</th>\n",
       "      <td>Jeff Fosnes</td>\n",
       "      <td>1976</td>\n",
       "      <td>0</td>\n",
       "      <td>GSW</td>\n",
       "      <td>Vanderbilt University</td>\n",
       "      <td>0</td>\n",
       "      <td>0</td>\n",
       "      <td>0</td>\n",
       "      <td>0</td>\n",
       "    </tr>\n",
       "    <tr>\n",
       "      <th>4</th>\n",
       "      <td>Carl Bird</td>\n",
       "      <td>1976</td>\n",
       "      <td>0</td>\n",
       "      <td>GSW</td>\n",
       "      <td>University of California</td>\n",
       "      <td>0</td>\n",
       "      <td>0</td>\n",
       "      <td>0</td>\n",
       "      <td>0</td>\n",
       "    </tr>\n",
       "  </tbody>\n",
       "</table>\n",
       "</div>"
      ],
      "text/plain": [
       "              name  year first_year team                           college  \\\n",
       "0    Robert Parish  1976          0  GSW    Centenary College of Louisiana   \n",
       "1     Sonny Parker  1976          0  GSW              Texas A&M University   \n",
       "2  Marshall Rogers  1976          0  GSW  University of Texas-Pan American   \n",
       "3      Jeff Fosnes  1976          0  GSW             Vanderbilt University   \n",
       "4        Carl Bird  1976          0  GSW          University of California   \n",
       "\n",
       "  active games avg_min avg_points  \n",
       "0     21  1611    28.4       14.5  \n",
       "1      6   452    24.2        9.9  \n",
       "2      1    26     6.8        3.8  \n",
       "3      0     0       0          0  \n",
       "4      0     0       0          0  "
      ]
     },
     "execution_count": 24,
     "metadata": {},
     "output_type": "execute_result"
    }
   ],
   "source": [
    "df = pd.read_sql(\"SELECT * FROM players\", con=conn);\n",
    "df.head()"
   ]
  },
  {
   "cell_type": "code",
   "execution_count": 26,
   "metadata": {},
   "outputs": [
    {
     "data": {
      "text/plain": [
       "pandas.core.series.Series"
      ]
     },
     "execution_count": 26,
     "metadata": {},
     "output_type": "execute_result"
    }
   ],
   "source": [
    "type(df[\"name\"])"
   ]
  },
  {
   "cell_type": "code",
   "execution_count": null,
   "metadata": {},
   "outputs": [],
   "source": [
    "def import_to_db(players=None):\n",
    "    \"\"\"Create database table in sqlite3 and import the players data\n",
    "\n",
    "       required table SQL:\n",
    "       CREATE TABLE players (name, year, first_year, team, college,\n",
    "                             active, games, avg_min, avg_points)\n",
    "    \"\"\"\n",
    "    if players is None:\n",
    "        players = list(load_data())\n",
    "\n",
    "    # you code ...\n",
    "\n",
    "\n",
    "def player_with_max_points_per_game():\n",
    "    \"\"\"The player with highest average points per game (don't forget to CAST to\n",
    "       numeric in your SQL query)\"\"\"\n",
    "    pass\n",
    "\n",
    "\n",
    "def number_of_players_from_duke():\n",
    "    \"\"\"Return the number of players with college == Duke University\"\"\"\n",
    "    pass\n",
    "\n",
    "\n",
    "def percentage_of_players_first_year():\n",
    "    \"\"\"Return 2 digit percentage of players whose first year it is\n",
    "       (first_year column)\"\"\"\n",
    "    pass\n",
    "\n",
    "\n",
    "def avg_years_active_players_stanford():\n",
    "    \"\"\"Return the average years that players from \"Stanford University\n",
    "       are active (\"active\" column)\"\"\"\n",
    "    pass\n",
    "\n",
    "\n",
    "def year_with_most_drafts():\n",
    "    \"\"\"Return the year with the most drafts, in SQL you can use GROUP BY\"\"\"\n",
    "    pass\n",
    "\n",
    "\n",
    "def most_games_per_year_for_veterans():\n",
    "    \"\"\"Top 6 players that are > 10 years active, that have the\n",
    "       highest # games / year\"\"\"\n",
    "    pass\n",
    "\n",
    "\n",
    "if __name__ == '__main__':\n",
    "    import_to_db()\n",
    "\n",
    "    # A. check if the import went well\n",
    "    def _verify_total_row_count_after_import():\n",
    "        sql = '''SELECT COUNT(*) FROM players'''\n",
    "        cur.execute(sql)\n",
    "        ret = cur.fetchall()\n",
    "        return ret[0][0]\n",
    "\n",
    "    assert _verify_total_row_count_after_import() == 3961\n",
    "\n",
    "    # B. some simple asserts of the data analysis functions\n",
    "    assert player_with_max_points_per_game() == 'Michael Jordan'\n",
    "\n",
    "    assert number_of_players_from_duke() == 58\n",
    "\n",
    "    assert round(avg_years_active_players_stanford(), 2) == 4.58\n",
    "\n",
    "    assert round(percentage_of_players_first_year(), 2) == 1.51\n",
    "\n",
    "    assert int(year_with_most_drafts()) == 1984\n",
    "\n",
    "    expected = ['A.C. Green', 'Alex English', 'Jack Sikma',\n",
    "                'John Stockton', 'Mark Eaton', 'Terry Tyler']\n",
    "    assert sorted(most_games_per_year_for_veterans()) == expected\n"
   ]
  },
  {
   "cell_type": "code",
   "execution_count": null,
   "metadata": {},
   "outputs": [],
   "source": []
  }
 ],
 "metadata": {
  "kernelspec": {
   "display_name": "Python 3",
   "language": "python",
   "name": "python3"
  },
  "language_info": {
   "codemirror_mode": {
    "name": "ipython",
    "version": 3
   },
   "file_extension": ".py",
   "mimetype": "text/x-python",
   "name": "python",
   "nbconvert_exporter": "python",
   "pygments_lexer": "ipython3",
   "version": "3.4.3"
  }
 },
 "nbformat": 4,
 "nbformat_minor": 2
}
